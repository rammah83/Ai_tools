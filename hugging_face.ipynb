{
 "cells": [
  {
   "cell_type": "code",
   "execution_count": 1,
   "metadata": {},
   "outputs": [
    {
     "name": "stderr",
     "output_type": "stream",
     "text": [
      "/home/rammah/Desktop/py_projects/Ai_tools/.venv/lib/python3.11/site-packages/tqdm/auto.py:21: TqdmWarning: IProgress not found. Please update jupyter and ipywidgets. See https://ipywidgets.readthedocs.io/en/stable/user_install.html\n",
      "  from .autonotebook import tqdm as notebook_tqdm\n",
      "None of PyTorch, TensorFlow >= 2.0, or Flax have been found. Models won't be available and only tokenizers, configuration and file/data utilities can be used.\n"
     ]
    },
    {
     "name": "stdout",
     "output_type": "stream",
     "text": [
      "4.39.3\n"
     ]
    }
   ],
   "source": [
    "import transformers\n",
    "print(transformers.__version__)"
   ]
  },
  {
   "cell_type": "code",
   "execution_count": 25,
   "metadata": {},
   "outputs": [],
   "source": [
    "from huggingface_hub import HfApi, ModelFilter\n",
    "\n",
    "api = HfApi()"
   ]
  },
  {
   "cell_type": "code",
   "execution_count": 26,
   "metadata": {},
   "outputs": [
    {
     "name": "stdout",
     "output_type": "stream",
     "text": [
      "ModelInfo(id='cardiffnlp/twitter-roberta-base-sentiment-latest',\n",
      "          author='cardiffnlp',\n",
      "          sha='4ba3d4463bd152c9e4abd892b50844f30c646708',\n",
      "          created_at=datetime.datetime(2022, 3, 15, 1, 21, 58, tzinfo=datetime.timezone.utc),\n",
      "          last_modified=datetime.datetime(2023, 5, 28, 5, 45, 10, tzinfo=datetime.timezone.utc),\n",
      "          private=False,\n",
      "          gated=False,\n",
      "          disabled=None,\n",
      "          downloads=35984383,\n",
      "          likes=376,\n",
      "          library_name='transformers',\n",
      "          tags=['transformers',\n",
      "                'pytorch',\n",
      "                'tf',\n",
      "                'roberta',\n",
      "                'text-classification',\n",
      "                'en',\n",
      "                'dataset:tweet_eval',\n",
      "                'arxiv:2202.03829',\n",
      "                'autotrain_compatible',\n",
      "                'endpoints_compatible',\n",
      "                'has_space',\n",
      "                'region:us'],\n",
      "          pipeline_tag='text-classification',\n",
      "          mask_token=None,\n",
      "          card_data=None,\n",
      "          widget_data=None,\n",
      "          model_index=None,\n",
      "          config=None,\n",
      "          transformers_info=None,\n",
      "          siblings=[RepoSibling(rfilename='.gitattributes',\n",
      "                                size=None,\n",
      "                                blob_id=None,\n",
      "                                lfs=None),\n",
      "                    RepoSibling(rfilename='README.md',\n",
      "                                size=None,\n",
      "                                blob_id=None,\n",
      "                                lfs=None),\n",
      "                    RepoSibling(rfilename='config.json',\n",
      "                                size=None,\n",
      "                                blob_id=None,\n",
      "                                lfs=None),\n",
      "                    RepoSibling(rfilename='merges.txt',\n",
      "                                size=None,\n",
      "                                blob_id=None,\n",
      "                                lfs=None),\n",
      "                    RepoSibling(rfilename='pytorch_model.bin',\n",
      "                                size=None,\n",
      "                                blob_id=None,\n",
      "                                lfs=None),\n",
      "                    RepoSibling(rfilename='special_tokens_map.json',\n",
      "                                size=None,\n",
      "                                blob_id=None,\n",
      "                                lfs=None),\n",
      "                    RepoSibling(rfilename='tf_model.h5',\n",
      "                                size=None,\n",
      "                                blob_id=None,\n",
      "                                lfs=None),\n",
      "                    RepoSibling(rfilename='vocab.json',\n",
      "                                size=None,\n",
      "                                blob_id=None,\n",
      "                                lfs=None)],\n",
      "          spaces=None,\n",
      "          safetensors=None)\n"
     ]
    }
   ],
   "source": [
    "from pprint import pprint\n",
    "\n",
    "\n",
    "models = api.list_models(\n",
    "    filter=\"text-classification\",\n",
    "        sort=\"downloads\",\n",
    "        direction=-1,\n",
    "        limit=10,\n",
    "    )\n",
    "model_list = list(models)\n",
    "pprint(model_list[0]) # )model_list[:3]"
   ]
  },
  {
   "cell_type": "code",
   "execution_count": 27,
   "metadata": {},
   "outputs": [
    {
     "ename": "ImportError",
     "evalue": "\nAutoModel requires the PyTorch library but it was not found in your environment. Checkout the instructions on the\ninstallation page: https://pytorch.org/get-started/locally/ and follow the ones that match your environment.\nPlease note that you may need to restart your runtime after installation.\n",
     "output_type": "error",
     "traceback": [
      "\u001b[0;31m---------------------------------------------------------------------------\u001b[0m",
      "\u001b[0;31mImportError\u001b[0m                               Traceback (most recent call last)",
      "Cell \u001b[0;32mIn[27], line 6\u001b[0m\n\u001b[1;32m      3\u001b[0m modelId \u001b[38;5;241m=\u001b[39m \u001b[38;5;124m\"\u001b[39m\u001b[38;5;124mdistilbert-base-uncased-finetuned-sst-2-english\u001b[39m\u001b[38;5;124m\"\u001b[39m\n\u001b[1;32m      5\u001b[0m \u001b[38;5;66;03m# Instantiate the AutoModel class\u001b[39;00m\n\u001b[0;32m----> 6\u001b[0m model \u001b[38;5;241m=\u001b[39m \u001b[43mAutoModel\u001b[49m\u001b[38;5;241;43m.\u001b[39;49m\u001b[43mfrom_pretrained\u001b[49m(modelId)\n\u001b[1;32m      8\u001b[0m \u001b[38;5;66;03m# Save the model\u001b[39;00m\n\u001b[1;32m      9\u001b[0m model\n",
      "File \u001b[0;32m~/Desktop/py_projects/Ai_tools/.venv/lib/python3.11/site-packages/transformers/utils/import_utils.py:1412\u001b[0m, in \u001b[0;36mDummyObject.__getattribute__\u001b[0;34m(cls, key)\u001b[0m\n\u001b[1;32m   1410\u001b[0m \u001b[38;5;28;01mif\u001b[39;00m key\u001b[38;5;241m.\u001b[39mstartswith(\u001b[38;5;124m\"\u001b[39m\u001b[38;5;124m_\u001b[39m\u001b[38;5;124m\"\u001b[39m) \u001b[38;5;129;01mand\u001b[39;00m key \u001b[38;5;241m!=\u001b[39m \u001b[38;5;124m\"\u001b[39m\u001b[38;5;124m_from_config\u001b[39m\u001b[38;5;124m\"\u001b[39m:\n\u001b[1;32m   1411\u001b[0m     \u001b[38;5;28;01mreturn\u001b[39;00m \u001b[38;5;28msuper\u001b[39m()\u001b[38;5;241m.\u001b[39m\u001b[38;5;21m__getattribute__\u001b[39m(key)\n\u001b[0;32m-> 1412\u001b[0m \u001b[43mrequires_backends\u001b[49m\u001b[43m(\u001b[49m\u001b[38;5;28;43mcls\u001b[39;49m\u001b[43m,\u001b[49m\u001b[43m \u001b[49m\u001b[38;5;28;43mcls\u001b[39;49m\u001b[38;5;241;43m.\u001b[39;49m\u001b[43m_backends\u001b[49m\u001b[43m)\u001b[49m\n",
      "File \u001b[0;32m~/Desktop/py_projects/Ai_tools/.venv/lib/python3.11/site-packages/transformers/utils/import_utils.py:1400\u001b[0m, in \u001b[0;36mrequires_backends\u001b[0;34m(obj, backends)\u001b[0m\n\u001b[1;32m   1398\u001b[0m failed \u001b[38;5;241m=\u001b[39m [msg\u001b[38;5;241m.\u001b[39mformat(name) \u001b[38;5;28;01mfor\u001b[39;00m available, msg \u001b[38;5;129;01min\u001b[39;00m checks \u001b[38;5;28;01mif\u001b[39;00m \u001b[38;5;129;01mnot\u001b[39;00m available()]\n\u001b[1;32m   1399\u001b[0m \u001b[38;5;28;01mif\u001b[39;00m failed:\n\u001b[0;32m-> 1400\u001b[0m     \u001b[38;5;28;01mraise\u001b[39;00m \u001b[38;5;167;01mImportError\u001b[39;00m(\u001b[38;5;124m\"\u001b[39m\u001b[38;5;124m\"\u001b[39m\u001b[38;5;241m.\u001b[39mjoin(failed))\n",
      "\u001b[0;31mImportError\u001b[0m: \nAutoModel requires the PyTorch library but it was not found in your environment. Checkout the instructions on the\ninstallation page: https://pytorch.org/get-started/locally/ and follow the ones that match your environment.\nPlease note that you may need to restart your runtime after installation.\n"
     ]
    }
   ],
   "source": [
    "from transformers import AutoModel\n",
    "\n",
    "modelId = \"distilbert-base-uncased-finetuned-sst-2-english\"\n",
    "\n",
    "# Instantiate the AutoModel class\n",
    "model = AutoModel.from_pretrained(modelId)\n",
    "\n",
    "# Save the model\n",
    "model"
   ]
  },
  {
   "cell_type": "code",
   "execution_count": null,
   "metadata": {},
   "outputs": [],
   "source": []
  }
 ],
 "metadata": {
  "kernelspec": {
   "display_name": ".venv",
   "language": "python",
   "name": "python3"
  },
  "language_info": {
   "codemirror_mode": {
    "name": "ipython",
    "version": 3
   },
   "file_extension": ".py",
   "mimetype": "text/x-python",
   "name": "python",
   "nbconvert_exporter": "python",
   "pygments_lexer": "ipython3",
   "version": "3.11.9"
  }
 },
 "nbformat": 4,
 "nbformat_minor": 2
}
